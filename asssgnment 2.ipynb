{
 "cells": [
  {
   "cell_type": "code",
   "execution_count": 2,
   "metadata": {},
   "outputs": [
    {
     "name": "stdout",
     "output_type": "stream",
     "text": [
      "Best sequence of states: ['Rainy', 'Rainy', 'Sunny']\n",
      "Maximum probability: 0.013607999999999999\n"
     ]
    }
   ],
   "source": [
    "import numpy as np\n",
    "\n",
    "# Define states, observations, and probabilities\n",
    "states = ['Rainy', 'Sunny']\n",
    "observations = ['Dry', 'Wet', 'Damp']\n",
    "obs_sequence = ['Wet', 'Damp', 'Dry']\n",
    "\n",
    "start_prob = {'Rainy': 0.6, 'Sunny': 0.4}\n",
    "transition_prob = {\n",
    "    'Rainy': {'Rainy': 0.7, 'Sunny': 0.3},\n",
    "    'Sunny': {'Rainy': 0.4, 'Sunny': 0.6}\n",
    "}\n",
    "emission_prob = {\n",
    "    'Rainy': {'Dry': 0.1, 'Wet': 0.6, 'Damp': 0.3},\n",
    "    'Sunny': {'Dry': 0.6, 'Wet': 0.2, 'Damp': 0.2}\n",
    "}\n",
    "\n",
    "# Viterbi algorithm implementation\n",
    "def viterbi(obs_sequence, states, start_prob, transition_prob, emission_prob):\n",
    "    # Initialize variables\n",
    "    V = [{}]  # Stores the probability of each state at each step\n",
    "    path = {} # Stores the most likely sequence of states\n",
    "\n",
    "    # Initialize base cases (t = 0)\n",
    "    for state in states:s\n",
    "        V[0][state] = start_prob[state] * emission_prob[state][obs_sequence[0]]\n",
    "        path[state] = [state]\n",
    "\n",
    "    # Run Viterbi for t > 0\n",
    "    for t in range(1, len(obs_sequence)):\n",
    "        V.append({})\n",
    "        new_path = {}\n",
    "\n",
    "        for curr_state in states:\n",
    "            max_prob, prev_state = max(\n",
    "                (V[t-1][prev_state] * transition_prob[prev_state][curr_state] * emission_prob[curr_state][obs_sequence[t]], prev_state)\n",
    "                for prev_state in states\n",
    "            )\n",
    "            V[t][curr_state] = max_prob\n",
    "            new_path[curr_state] = path[prev_state] + [curr_state]\n",
    "        \n",
    "        # Update path with the new state sequences\n",
    "        path = new_path\n",
    "\n",
    "    # Find the final most likely state sequence\n",
    "    max_prob, final_state = max((V[len(obs_sequence) - 1][state], state) for state in states)\n",
    "    return path[final_state], max_prob\n",
    "\n",
    "# Predict the sequence of states\n",
    "best_sequence, max_prob = viterbi(obs_sequence, states, start_prob, transition_prob, emission_prob)\n",
    "print(f\"Best sequence of states: {best_sequence}\")\n",
    "print(f\"Maximum probability: {max_prob}\")\n"
   ]
  }
 ],
 "metadata": {
  "kernelspec": {
   "display_name": "Python 3",
   "language": "python",
   "name": "python3"
  },
  "language_info": {
   "codemirror_mode": {
    "name": "ipython",
    "version": 3
   },
   "file_extension": ".py",
   "mimetype": "text/x-python",
   "name": "python",
   "nbconvert_exporter": "python",
   "pygments_lexer": "ipython3",
   "version": "3.11.9"
  }
 },
 "nbformat": 4,
 "nbformat_minor": 2
}
