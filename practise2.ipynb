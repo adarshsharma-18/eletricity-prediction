{
 "cells": [
  {
   "cell_type": "code",
   "execution_count": 1,
   "metadata": {},
   "outputs": [
    {
     "name": "stdout",
     "output_type": "stream",
     "text": [
      "Fitting 3 folds for each of 54 candidates, totalling 162 fits\n"
     ]
    }
   ],
   "source": [
    "# Import necessary libraries\n",
    "import pandas as pd\n",
    "import matplotlib.pyplot as plt\n",
    "from sklearn.model_selection import train_test_split, GridSearchCV\n",
    "from sklearn.ensemble import RandomForestRegressor\n",
    "from sklearn.metrics import mean_squared_error\n",
    "import numpy as np\n",
    "\n",
    "# Load the dataset\n",
    "file_path = 'continuous dataset.csv'  # Update the file path as needed\n",
    "data = pd.read_csv(file_path)\n",
    "\n",
    "# Convert the 'datetime' column to a datetime format\n",
    "data['datetime'] = pd.to_datetime(data['datetime'], format='%d-%m-%Y %H:%M')\n",
    "\n",
    "# Extracting date and time features\n",
    "data['hour'] = data['datetime'].dt.hour\n",
    "data['day_of_week'] = data['datetime'].dt.dayofweek\n",
    "data['month'] = data['datetime'].dt.month\n",
    "\n",
    "# Create lag features for 'nat_demand'\n",
    "for lag in range(1, 25):  # Creating lag features for the past 24 hours\n",
    "    data[f'nat_demand_lag_{lag}'] = data['nat_demand'].shift(lag)\n",
    "\n",
    "# Create rolling statistics features for 'nat_demand'\n",
    "data['rolling_mean_24h'] = data['nat_demand'].rolling(window=24).mean()\n",
    "data['rolling_std_24h'] = data['nat_demand'].rolling(window=24).std()\n",
    "\n",
    "# Drop rows with NaN values created due to lag and rolling features\n",
    "data = data.dropna()\n",
    "\n",
    "# Prepare the data for modeling\n",
    "X = data.drop(columns=['datetime', 'nat_demand'])\n",
    "y = data['nat_demand']\n",
    "\n",
    "# Split the data into training and testing sets\n",
    "X_train, X_test, y_train, y_test = train_test_split(X, y, test_size=0.2, random_state=42)\n",
    "\n",
    "# Train a Random Forest model with hyperparameter tuning\n",
    "param_grid = {\n",
    "    'n_estimators': [100, 200],\n",
    "    'max_depth': [10, 20, None],\n",
    "    'min_samples_split': [2, 5, 10],\n",
    "    'min_samples_leaf': [1, 2, 4]\n",
    "}\n",
    "\n",
    "grid_search = GridSearchCV(estimator=RandomForestRegressor(random_state=42),\n",
    "                           param_grid=param_grid,\n",
    "                           cv=3,\n",
    "                           n_jobs=-1,\n",
    "                           verbose=2)\n",
    "grid_search.fit(X_train, y_train)\n",
    "\n",
    "best_model = grid_search.best_estimator_\n",
    "\n",
    "# Evaluate the best model\n",
    "y_pred = best_model.predict(X_test)\n",
    "rmse = mean_squared_error(y_test, y_pred, squared=False)\n",
    "print(f'Root Mean Squared Error: {rmse}')\n",
    "\n",
    "# Plot the actual vs predicted values\n",
    "plt.figure(figsize=(14, 7))\n",
    "plt.plot(y_test.values, label='Actual')\n",
    "plt.plot(y_pred, label='Predicted')\n",
    "plt.xlabel('Sample Index')\n",
    "plt.ylabel('National Electricity Load')\n",
    "plt.title('Actual vs Predicted National Electricity Load')\n",
    "plt.legend()\n",
    "plt.grid(True)\n",
    "plt.show()\n"
   ]
  }
 ],
 "metadata": {
  "kernelspec": {
   "display_name": "Python 3",
   "language": "python",
   "name": "python3"
  },
  "language_info": {
   "codemirror_mode": {
    "name": "ipython",
    "version": 3
   },
   "file_extension": ".py",
   "mimetype": "text/x-python",
   "name": "python",
   "nbconvert_exporter": "python",
   "pygments_lexer": "ipython3",
   "version": "3.11.4"
  }
 },
 "nbformat": 4,
 "nbformat_minor": 2
}
